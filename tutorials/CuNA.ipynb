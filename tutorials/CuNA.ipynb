{
 "cells": [
  {
   "cell_type": "markdown",
   "id": "567c5523",
   "metadata": {},
   "source": [
    "# Tutorial for CuNA \n",
    "\n",
    "CuNA has two parts to it: \n",
    "1. computing redescription groups by cumulants and \n",
    "2. performing network analysis after forming a network from the redescription groups."
   ]
  },
  {
   "cell_type": "code",
   "execution_count": 1,
   "id": "4c91949d",
   "metadata": {},
   "outputs": [
    {
     "name": "stdout",
     "output_type": "stream",
     "text": [
      "/home/abose/Geno4SD\n"
     ]
    }
   ],
   "source": [
    "%cd \"/home/abose/Geno4SD/\"\n",
    "import pandas as pd \n",
    "import numpy as np \n",
    "import os, sys, time, random, math\n",
    "from geno4sd.topology.CuNA import cumulants, cuna, cures\n",
    "\n",
    "import matplotlib.pyplot as plt\n",
    "import seaborn as sns\n",
    "#warnings.filterwarnings('ignore')\n"
   ]
  },
  {
   "cell_type": "markdown",
   "id": "6d4e8ea3",
   "metadata": {},
   "source": [
    "### Read data\n",
    "We use a sample data from TCGA Breast cancer study. We have selected a subset of mRNAs, miRNAs and proteins which are associated with breast cancer in this data. "
   ]
  },
  {
   "cell_type": "code",
   "execution_count": 12,
   "id": "0a7e9c8e",
   "metadata": {},
   "outputs": [
    {
     "name": "stdout",
     "output_type": "stream",
     "text": [
      "X and y dimensions match!\n",
      "\n",
      "Number of individuals:  180\n",
      "Number of features:  43\n",
      "\n",
      "Number of each subtype:  x\n",
      "Basal    54\n",
      "Her2     35\n",
      "LumA     91\n",
      "dtype: int64\n"
     ]
    }
   ],
   "source": [
    "path = '/home/abose/Geno4SD/docs/data/'\n",
    "df = pd.read_csv(path+'tcga_mixomics_new_train_forcuna.csv')\n",
    "df.index=df['ID']\n",
    "df.drop(['ID'], axis=1, inplace=True)\n",
    "\n",
    "target = pd.read_csv(path+'tcga_subtypes_train.csv')\n",
    "y = target['x'].map({'Basal':1, 'Her2':2, 'LumA': 3})\n",
    "\n",
    "assert df.shape[0] == len(y)\n",
    "print('X and y dimensions match!\\n')\n",
    "\n",
    "print(\"Number of individuals: \", df.shape[0])\n",
    "print(\"Number of features: \", df.shape[1])\n",
    "print(\"\\nNumber of each subtype: \", target.groupby('x').size())"
   ]
  },
  {
   "cell_type": "code",
   "execution_count": 19,
   "id": "0e669b8e",
   "metadata": {},
   "outputs": [
    {
     "data": {
      "text/html": [
       "<div>\n",
       "<style scoped>\n",
       "    .dataframe tbody tr th:only-of-type {\n",
       "        vertical-align: middle;\n",
       "    }\n",
       "\n",
       "    .dataframe tbody tr th {\n",
       "        vertical-align: top;\n",
       "    }\n",
       "\n",
       "    .dataframe thead th {\n",
       "        text-align: right;\n",
       "    }\n",
       "</style>\n",
       "<table border=\"1\" class=\"dataframe\">\n",
       "  <thead>\n",
       "    <tr style=\"text-align: right;\">\n",
       "      <th></th>\n",
       "      <th>ZNF552</th>\n",
       "      <th>KDM4B</th>\n",
       "      <th>CCNA2</th>\n",
       "      <th>LRIG1</th>\n",
       "      <th>PREX1</th>\n",
       "      <th>FUT8</th>\n",
       "      <th>C4orf34</th>\n",
       "      <th>TTC39A</th>\n",
       "      <th>ASPM</th>\n",
       "      <th>SLC43A3</th>\n",
       "      <th>...</th>\n",
       "      <th>hsa-mir-146a</th>\n",
       "      <th>ER-alpha</th>\n",
       "      <th>GATA3</th>\n",
       "      <th>ASNS</th>\n",
       "      <th>Cyclin_B1</th>\n",
       "      <th>AR</th>\n",
       "      <th>Cyclin_E1</th>\n",
       "      <th>JNK2</th>\n",
       "      <th>PR</th>\n",
       "      <th>INPP4B</th>\n",
       "    </tr>\n",
       "    <tr>\n",
       "      <th>ID</th>\n",
       "      <th></th>\n",
       "      <th></th>\n",
       "      <th></th>\n",
       "      <th></th>\n",
       "      <th></th>\n",
       "      <th></th>\n",
       "      <th></th>\n",
       "      <th></th>\n",
       "      <th></th>\n",
       "      <th></th>\n",
       "      <th></th>\n",
       "      <th></th>\n",
       "      <th></th>\n",
       "      <th></th>\n",
       "      <th></th>\n",
       "      <th></th>\n",
       "      <th></th>\n",
       "      <th></th>\n",
       "      <th></th>\n",
       "      <th></th>\n",
       "      <th></th>\n",
       "    </tr>\n",
       "  </thead>\n",
       "  <tbody>\n",
       "    <tr>\n",
       "      <th>A0FJ</th>\n",
       "      <td>3.310659</td>\n",
       "      <td>6.549551</td>\n",
       "      <td>5.332618</td>\n",
       "      <td>6.754879</td>\n",
       "      <td>4.469941</td>\n",
       "      <td>2.657454</td>\n",
       "      <td>4.038446</td>\n",
       "      <td>2.581035</td>\n",
       "      <td>6.028050</td>\n",
       "      <td>7.746416</td>\n",
       "      <td>...</td>\n",
       "      <td>8.036462</td>\n",
       "      <td>-3.735720</td>\n",
       "      <td>-1.936132</td>\n",
       "      <td>0.811463</td>\n",
       "      <td>1.516735</td>\n",
       "      <td>-1.307606</td>\n",
       "      <td>0.987851</td>\n",
       "      <td>-0.567644</td>\n",
       "      <td>-0.780103</td>\n",
       "      <td>-0.325678</td>\n",
       "    </tr>\n",
       "    <tr>\n",
       "      <th>A13E</th>\n",
       "      <td>2.453071</td>\n",
       "      <td>5.862749</td>\n",
       "      <td>5.833160</td>\n",
       "      <td>6.360029</td>\n",
       "      <td>4.047861</td>\n",
       "      <td>2.455102</td>\n",
       "      <td>5.080940</td>\n",
       "      <td>5.062327</td>\n",
       "      <td>6.286401</td>\n",
       "      <td>7.177938</td>\n",
       "      <td>...</td>\n",
       "      <td>7.558073</td>\n",
       "      <td>-1.819547</td>\n",
       "      <td>-2.279977</td>\n",
       "      <td>1.181016</td>\n",
       "      <td>1.025777</td>\n",
       "      <td>-1.620476</td>\n",
       "      <td>0.249590</td>\n",
       "      <td>-0.668122</td>\n",
       "      <td>-0.384844</td>\n",
       "      <td>-0.381475</td>\n",
       "    </tr>\n",
       "    <tr>\n",
       "      <th>A0G0</th>\n",
       "      <td>3.723843</td>\n",
       "      <td>5.954117</td>\n",
       "      <td>5.595054</td>\n",
       "      <td>6.214211</td>\n",
       "      <td>4.438450</td>\n",
       "      <td>5.329553</td>\n",
       "      <td>5.569353</td>\n",
       "      <td>4.360152</td>\n",
       "      <td>7.289928</td>\n",
       "      <td>7.389874</td>\n",
       "      <td>...</td>\n",
       "      <td>7.455402</td>\n",
       "      <td>-3.873648</td>\n",
       "      <td>-1.581067</td>\n",
       "      <td>1.950922</td>\n",
       "      <td>0.977360</td>\n",
       "      <td>-1.077894</td>\n",
       "      <td>-0.329459</td>\n",
       "      <td>-0.540845</td>\n",
       "      <td>-1.166537</td>\n",
       "      <td>-0.518444</td>\n",
       "    </tr>\n",
       "    <tr>\n",
       "      <th>A0SX</th>\n",
       "      <td>3.471480</td>\n",
       "      <td>6.462346</td>\n",
       "      <td>5.416599</td>\n",
       "      <td>6.187161</td>\n",
       "      <td>6.212043</td>\n",
       "      <td>4.976205</td>\n",
       "      <td>4.698853</td>\n",
       "      <td>6.163528</td>\n",
       "      <td>6.577661</td>\n",
       "      <td>7.340998</td>\n",
       "      <td>...</td>\n",
       "      <td>8.535928</td>\n",
       "      <td>-2.998116</td>\n",
       "      <td>-1.572635</td>\n",
       "      <td>0.607424</td>\n",
       "      <td>0.569273</td>\n",
       "      <td>-1.267055</td>\n",
       "      <td>1.425507</td>\n",
       "      <td>-0.173740</td>\n",
       "      <td>-0.259154</td>\n",
       "      <td>0.464042</td>\n",
       "    </tr>\n",
       "    <tr>\n",
       "      <th>A143</th>\n",
       "      <td>3.945742</td>\n",
       "      <td>5.678434</td>\n",
       "      <td>5.316069</td>\n",
       "      <td>7.975104</td>\n",
       "      <td>5.102479</td>\n",
       "      <td>6.372000</td>\n",
       "      <td>5.181146</td>\n",
       "      <td>4.193572</td>\n",
       "      <td>6.527630</td>\n",
       "      <td>6.451219</td>\n",
       "      <td>...</td>\n",
       "      <td>6.356079</td>\n",
       "      <td>-4.189787</td>\n",
       "      <td>-1.847252</td>\n",
       "      <td>0.538763</td>\n",
       "      <td>1.368957</td>\n",
       "      <td>-0.601327</td>\n",
       "      <td>1.406639</td>\n",
       "      <td>-0.103767</td>\n",
       "      <td>-1.347701</td>\n",
       "      <td>-0.908022</td>\n",
       "    </tr>\n",
       "  </tbody>\n",
       "</table>\n",
       "<p>5 rows × 43 columns</p>\n",
       "</div>"
      ],
      "text/plain": [
       "        ZNF552     KDM4B     CCNA2     LRIG1     PREX1      FUT8   C4orf34  \\\n",
       "ID                                                                           \n",
       "A0FJ  3.310659  6.549551  5.332618  6.754879  4.469941  2.657454  4.038446   \n",
       "A13E  2.453071  5.862749  5.833160  6.360029  4.047861  2.455102  5.080940   \n",
       "A0G0  3.723843  5.954117  5.595054  6.214211  4.438450  5.329553  5.569353   \n",
       "A0SX  3.471480  6.462346  5.416599  6.187161  6.212043  4.976205  4.698853   \n",
       "A143  3.945742  5.678434  5.316069  7.975104  5.102479  6.372000  5.181146   \n",
       "\n",
       "        TTC39A      ASPM   SLC43A3  ...  hsa-mir-146a  ER-alpha     GATA3  \\\n",
       "ID                                  ...                                     \n",
       "A0FJ  2.581035  6.028050  7.746416  ...      8.036462 -3.735720 -1.936132   \n",
       "A13E  5.062327  6.286401  7.177938  ...      7.558073 -1.819547 -2.279977   \n",
       "A0G0  4.360152  7.289928  7.389874  ...      7.455402 -3.873648 -1.581067   \n",
       "A0SX  6.163528  6.577661  7.340998  ...      8.535928 -2.998116 -1.572635   \n",
       "A143  4.193572  6.527630  6.451219  ...      6.356079 -4.189787 -1.847252   \n",
       "\n",
       "          ASNS  Cyclin_B1        AR  Cyclin_E1      JNK2        PR    INPP4B  \n",
       "ID                                                                            \n",
       "A0FJ  0.811463   1.516735 -1.307606   0.987851 -0.567644 -0.780103 -0.325678  \n",
       "A13E  1.181016   1.025777 -1.620476   0.249590 -0.668122 -0.384844 -0.381475  \n",
       "A0G0  1.950922   0.977360 -1.077894  -0.329459 -0.540845 -1.166537 -0.518444  \n",
       "A0SX  0.607424   0.569273 -1.267055   1.425507 -0.173740 -0.259154  0.464042  \n",
       "A143  0.538763   1.368957 -0.601327   1.406639 -0.103767 -1.347701 -0.908022  \n",
       "\n",
       "[5 rows x 43 columns]"
      ]
     },
     "execution_count": 19,
     "metadata": {},
     "output_type": "execute_result"
    }
   ],
   "source": [
    "df.head()"
   ]
  },
  {
   "cell_type": "markdown",
   "id": "51b6c298",
   "metadata": {},
   "source": [
    "## Computing Cumulants"
   ]
  },
  {
   "cell_type": "markdown",
   "id": "4851bf8b",
   "metadata": {},
   "source": [
    "<blockquote>\n",
    "&nbsp;\n",
    "\n",
    "Pre-requisites if using Julia Cumulants i.e. `julia = 1`:\n",
    "\n",
    "1. Install Julia to your environment:\n",
    "\n",
    "    - wget https://julialang-s3.julialang.org/bin/linux/x64/1.9/julia-1.9.2-linux-x86_64.tar.gz\n",
    "\n",
    "    - tar zxvf julia-1.9.2-linux-x86_64.tar.gz\n",
    "\n",
    "2. Export path to Julia:\n",
    "\n",
    "    - export PATH=\"$PATH:/data/shared/user/julia-1.9.2/bin\"\n",
    "    \n",
    "3. Launch Julia and install packages for computing cumulants:\n",
    "    ```julia\n",
    "    using Pkg\n",
    "    Pkg.add.([\"Cumulants\", \"NPZ\", \"LinearAlgebra\", \"Random\", \"Statistics\"])\n",
    "    ```\n",
    "&nbsp;\n",
    "</blockquote>"
   ]
  },
  {
   "cell_type": "code",
   "execution_count": 3,
   "id": "7706a8aa",
   "metadata": {},
   "outputs": [
    {
     "name": "stdout",
     "output_type": "stream",
     "text": [
      "Time spent computing cumulants (mins):  0.6619281808535258\n"
     ]
    }
   ],
   "source": [
    "beg_time = time.time()\n",
    "cumulants_df, vec_df = cumulants.get_cumulants(df, verbose = 1, julia = 1, julia_path = "", order = 3)\n",
    "print(\"Time spent computing cumulants (mins): \", (time.time() - beg_time)/60)"
   ]
  },
  {
   "cell_type": "markdown",
   "id": "dc3b3b72",
   "metadata": {},
   "source": [
    "### Filter significant cumulants "
   ]
  },
  {
   "cell_type": "code",
   "execution_count": 4,
   "id": "28444066",
   "metadata": {},
   "outputs": [
    {
     "name": "stdout",
     "output_type": "stream",
     "text": [
      "Number of significant redescription groups:  46040\n"
     ]
    }
   ],
   "source": [
    "filt_cumulants_df = cumulants_df[cumulants_df['P'] < 0.05]  \n",
    "filt_vec_df = vec_df[vec_df.k.isin(list(filt_cumulants_df.index))]\n",
    "print(\"Number of significant redescription groups: \", filt_vec_df.shape[0])"
   ]
  },
  {
   "cell_type": "markdown",
   "id": "f83e8b76",
   "metadata": {},
   "source": [
    "#### print cumulant statistics"
   ]
  },
  {
   "cell_type": "code",
   "execution_count": 5,
   "id": "66439b33",
   "metadata": {},
   "outputs": [
    {
     "name": "stdout",
     "output_type": "stream",
     "text": [
      "Cumulant statistics \n",
      "\n",
      "                                           k_res      Mean    StdDev  \\\n",
      "index                                                                  \n",
      "KDM4B&LMO4&MED13L&hsa-let-7d           -0.174156 -0.015231  0.064661   \n",
      "LMO4&CSRP2&hsa-mir-130b&hsa-mir-1301   -0.167287  0.026801  0.088832   \n",
      "LRIG1&SLC43A3&hsa-mir-505&hsa-mir-146a  0.271210  0.004263  0.084926   \n",
      "STC2&FMNL2&hsa-mir-17&hsa-mir-20a       0.343092  0.026616  0.061649   \n",
      "\n",
      "                                               Z             P  \n",
      "index                                                           \n",
      "KDM4B&LMO4&MED13L&hsa-let-7d           -2.457837  1.397764e-02  \n",
      "LMO4&CSRP2&hsa-mir-130b&hsa-mir-1301   -2.184880  2.889763e-02  \n",
      "LRIG1&SLC43A3&hsa-mir-505&hsa-mir-146a  3.143302  1.670537e-03  \n",
      "STC2&FMNL2&hsa-mir-17&hsa-mir-20a       5.133501  2.844009e-07  \n",
      "\n",
      " ------------\n",
      "\n",
      "Cumulant vectors\n",
      "\n",
      "                                       k         0         1         2  \\\n",
      "14552      KDM4B&C4orf34&E2F1&hsa-mir-93 -0.671425 -0.132388 -0.571832   \n",
      "73692  ASPM&FMNL2&hsa-let-7d&hsa-mir-532  0.943332 -0.245518  3.543421   \n",
      "71648       ASPM&MEX3A&STC2&hsa-mir-130b -1.195052  0.696927 -5.295539   \n",
      "60017      C4orf34&E2F1&STC2&hsa-mir-590  1.197347 -0.769306 -0.384679   \n",
      "\n",
      "              3         4         5         6         7         8  ...  \\\n",
      "14552 -0.652172 -0.277856 -0.718948 -1.281469  0.749913 -0.686441  ...   \n",
      "73692 -0.389763 -0.864909 -0.287150 -0.834609 -0.738471 -0.427335  ...   \n",
      "71648  0.113040 -1.156241  0.802100  0.727532  1.036099  0.332630  ...   \n",
      "60017 -0.530270 -0.472402 -0.661050 -0.640683  4.574779 -0.490820  ...   \n",
      "\n",
      "            170       171       172       173       174       175       176  \\\n",
      "14552 -0.715784 -0.976556 -0.662896 -0.663222 -0.682440 -0.665699 -0.305160   \n",
      "73692 -0.887155 -0.069096 -0.686511 -0.514609 -0.808490 -0.485569  1.144978   \n",
      "71648  0.750935  0.764106  0.749487  0.743629  1.559310  0.775725  1.157494   \n",
      "60017 -0.679766 -0.687775 -0.662140 -0.653348 -1.315709 -0.636120  1.033130   \n",
      "\n",
      "            177       178       179  \n",
      "14552 -0.555539 -0.877812 -0.663416  \n",
      "73692 -0.639359 -1.887061 -0.686903  \n",
      "71648 -0.804976 -0.346189  0.712378  \n",
      "60017  0.098274 -0.599747 -0.653229  \n",
      "\n",
      "[4 rows x 181 columns]\n"
     ]
    }
   ],
   "source": [
    "print(\"Cumulant statistics \\n\")\n",
    "print(filt_cumulants_df.sample(n=4))\n",
    "print(\"\\n ------------\\n\")\n",
    "print(\"Cumulant vectors\\n\")\n",
    "print(filt_vec_df.sample(n=4))"
   ]
  },
  {
   "cell_type": "markdown",
   "id": "0764339a",
   "metadata": {},
   "source": [
    "## CuRES"
   ]
  },
  {
   "cell_type": "code",
   "execution_count": 6,
   "id": "7f13951d",
   "metadata": {},
   "outputs": [
    {
     "name": "stdout",
     "output_type": "stream",
     "text": [
      "Best performing logistic regression model on training data:  {'C': 1.0, 'max_iter': 1000, 'multi_class': 'ovr', 'penalty': 'l1', 'solver': 'liblinear'}\n",
      "-------------------------------------\n",
      "Model fitting complete\n",
      "-------------------------------------\n",
      "F1 score of fitted model on test data:  0.8221119929453263\n",
      "-------------------------------------\n",
      "\n",
      "**************************************\n",
      "Computing CuReS\n",
      "**************************************\n",
      "Time spent computing cures (mins):  0.49988062779108683\n"
     ]
    }
   ],
   "source": [
    "beg_time = time.time()\n",
    "\n",
    "cures_vec, res, assoc = cures.get_cures(filt_vec_df.set_index('k').T, \n",
    "                                        y, \n",
    "                                        verbose=1,               \n",
    "                                        fit_cures=False,\n",
    "                                        multi_class=True)\n",
    "\n",
    "print(\"Time spent computing cures (mins): \", (time.time() - beg_time)/60)\n"
   ]
  },
  {
   "cell_type": "code",
   "execution_count": 7,
   "id": "e5cffe13",
   "metadata": {},
   "outputs": [
    {
     "data": {
      "text/plain": [
       "<matplotlib.collections.PolyCollection at 0x7fc9dd833460>"
      ]
     },
     "execution_count": 7,
     "metadata": {},
     "output_type": "execute_result"
    },
    {
     "data": {
      "image/png": "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\n",
      "text/plain": [
       "<Figure size 432x288 with 1 Axes>"
      ]
     },
     "metadata": {},
     "output_type": "display_data"
    }
   ],
   "source": [
    "cures_vec_ = [x for sublist in list(cures_vec) for x in sublist]\n",
    "cures_df = pd.DataFrame()\n",
    "cures_df['cures'] = cures_vec_\n",
    "cures_df['decile'] = pd.qcut(cures_df['cures'], 10, labels=False, duplicates='drop')\n",
    "\n",
    "thres_decile = 9\n",
    "nth_decile = np.min(cures_df[cures_df['decile'] >= thres_decile]['cures'])\n",
    "\n",
    "fig = plt.figure(figsize=(6,4))\n",
    "points = sns.kdeplot(data = cures_df, \n",
    "                     x='cures',\n",
    "                     shade= False).get_lines()[0].get_data()\n",
    "\n",
    "x1 = points[0]\n",
    "y1 = points[1]\n",
    "\n",
    "plt.fill_between(x1,y1, where = x1 > nth_decile, color='r', alpha=0.5)"
   ]
  },
  {
   "cell_type": "code",
   "execution_count": 31,
   "id": "b1045a99",
   "metadata": {},
   "outputs": [],
   "source": [
    "fig.savefig(\"/home/abose/PD/new/Data/CuReSplot_mockdata_pheno0.png\",\n",
    "               dpi=600, bbox_inches='tight')"
   ]
  },
  {
   "cell_type": "code",
   "execution_count": 7,
   "id": "aab647d7",
   "metadata": {},
   "outputs": [],
   "source": [
    "cumulants_df.to_csv('test.csv', index=False)"
   ]
  },
  {
   "cell_type": "markdown",
   "id": "96b80889",
   "metadata": {},
   "source": [
    "#### The p-value input should be a list of p-values. "
   ]
  },
  {
   "cell_type": "markdown",
   "id": "a83cd737",
   "metadata": {},
   "source": [
    "### Computing CuNA (Cumulant-based network analysis)\n",
    "CuNA returns the following:\n",
    "    1. A dataframe with edges in its rows and the connected vertices in columns along with the statistical significance (measured by p-value) from the Fisher Exact test. \n",
    "    2. **count** or weight of the edge. \n",
    "    3. A dataframe of varying row lengths (contains None for empty fields) with the community membership information for all the vertices. \n",
    "    4. A dataframe with node rank. A score indicating the importance of each vertex across different centrality measures. The lower the score means higher the importance. "
   ]
  },
  {
   "cell_type": "code",
   "execution_count": 9,
   "id": "12d420a9",
   "metadata": {},
   "outputs": [],
   "source": [
    "beg_time = time.time()\n",
    "p = [1e-2, 1e-5, 1e-8]\n",
    "interactions, nodes, communities, noderank = cuna.get_network(cumulants_df.copy(),\n",
    "                                                              0, \n",
    "                                                              p, \n",
    "                                                              verbose=0)\n",
    "print(\"Time spent computing CuNA network (mins): \", (time.time() - beg_time)/60)"
   ]
  },
  {
   "cell_type": "code",
   "execution_count": 13,
   "id": "508d1e25",
   "metadata": {},
   "outputs": [
    {
     "data": {
      "text/html": [
       "<div>\n",
       "<style scoped>\n",
       "    .dataframe tbody tr th:only-of-type {\n",
       "        vertical-align: middle;\n",
       "    }\n",
       "\n",
       "    .dataframe tbody tr th {\n",
       "        vertical-align: top;\n",
       "    }\n",
       "\n",
       "    .dataframe thead th {\n",
       "        text-align: right;\n",
       "    }\n",
       "</style>\n",
       "<table border=\"1\" class=\"dataframe\">\n",
       "  <thead>\n",
       "    <tr style=\"text-align: right;\">\n",
       "      <th></th>\n",
       "      <th>v1</th>\n",
       "      <th>v2</th>\n",
       "      <th>pval</th>\n",
       "      <th>count</th>\n",
       "    </tr>\n",
       "  </thead>\n",
       "  <tbody>\n",
       "    <tr>\n",
       "      <th>0</th>\n",
       "      <td>Cyclin_E1</td>\n",
       "      <td>hsa-mir-532</td>\n",
       "      <td>5.490000e-27</td>\n",
       "      <td>66</td>\n",
       "    </tr>\n",
       "    <tr>\n",
       "      <th>1</th>\n",
       "      <td>SLC43A3</td>\n",
       "      <td>ASNS</td>\n",
       "      <td>9.760000e-22</td>\n",
       "      <td>6</td>\n",
       "    </tr>\n",
       "    <tr>\n",
       "      <th>2</th>\n",
       "      <td>SLC43A3</td>\n",
       "      <td>CCNA2</td>\n",
       "      <td>1.460000e-19</td>\n",
       "      <td>7</td>\n",
       "    </tr>\n",
       "    <tr>\n",
       "      <th>3</th>\n",
       "      <td>TTC39A</td>\n",
       "      <td>hsa-mir-532</td>\n",
       "      <td>5.420000e-15</td>\n",
       "      <td>6</td>\n",
       "    </tr>\n",
       "    <tr>\n",
       "      <th>4</th>\n",
       "      <td>MED13L</td>\n",
       "      <td>hsa-mir-532</td>\n",
       "      <td>1.070000e-13</td>\n",
       "      <td>4</td>\n",
       "    </tr>\n",
       "  </tbody>\n",
       "</table>\n",
       "</div>"
      ],
      "text/plain": [
       "          v1           v2          pval  count\n",
       "0  Cyclin_E1  hsa-mir-532  5.490000e-27     66\n",
       "1    SLC43A3         ASNS  9.760000e-22      6\n",
       "2    SLC43A3        CCNA2  1.460000e-19      7\n",
       "3     TTC39A  hsa-mir-532  5.420000e-15      6\n",
       "4     MED13L  hsa-mir-532  1.070000e-13      4"
      ]
     },
     "execution_count": 13,
     "metadata": {},
     "output_type": "execute_result"
    }
   ],
   "source": [
    "tcga_network = pd.read_excel(path+\"CuNA_network_tcga_breastcancer.xlsx\")\n",
    "tcga_network.head()"
   ]
  },
  {
   "cell_type": "markdown",
   "id": "fd3fdf38",
   "metadata": {},
   "source": [
    "### Communities in the network"
   ]
  },
  {
   "cell_type": "code",
   "execution_count": 14,
   "id": "c9b925af",
   "metadata": {},
   "outputs": [
    {
     "data": {
      "text/html": [
       "<div>\n",
       "<style scoped>\n",
       "    .dataframe tbody tr th:only-of-type {\n",
       "        vertical-align: middle;\n",
       "    }\n",
       "\n",
       "    .dataframe tbody tr th {\n",
       "        vertical-align: top;\n",
       "    }\n",
       "\n",
       "    .dataframe thead th {\n",
       "        text-align: right;\n",
       "    }\n",
       "</style>\n",
       "<table border=\"1\" class=\"dataframe\">\n",
       "  <thead>\n",
       "    <tr style=\"text-align: right;\">\n",
       "      <th></th>\n",
       "      <th>Community0</th>\n",
       "      <th>MEX3A</th>\n",
       "      <th>hsa-mir-106b</th>\n",
       "      <th>LRIG1</th>\n",
       "      <th>JNK2</th>\n",
       "      <th>KDM4B</th>\n",
       "      <th>TTC39A</th>\n",
       "      <th>ER-alpha</th>\n",
       "      <th>hsa-mir-505</th>\n",
       "      <th>Cyclin_B1</th>\n",
       "      <th>hsa-mir-130b</th>\n",
       "      <th>hsa-let-7d</th>\n",
       "      <th>hsa-mir-106a</th>\n",
       "    </tr>\n",
       "  </thead>\n",
       "  <tbody>\n",
       "    <tr>\n",
       "      <th>0</th>\n",
       "      <td>Community1</td>\n",
       "      <td>hsa-mir-590</td>\n",
       "      <td>ZNF552</td>\n",
       "      <td>hsa-mir-93</td>\n",
       "      <td>MED13L</td>\n",
       "      <td>NTN4</td>\n",
       "      <td>STC2</td>\n",
       "      <td>C4orf34</td>\n",
       "      <td>E2F1</td>\n",
       "      <td>hsa-mir-186</td>\n",
       "      <td>ASPM</td>\n",
       "      <td>GATA3</td>\n",
       "      <td>hsa-mir-532</td>\n",
       "    </tr>\n",
       "    <tr>\n",
       "      <th>1</th>\n",
       "      <td>Community2</td>\n",
       "      <td>SLC43A3</td>\n",
       "      <td>AR</td>\n",
       "      <td>ASNS</td>\n",
       "      <td>hsa-mir-146a</td>\n",
       "      <td>FUT8</td>\n",
       "      <td>PREX1</td>\n",
       "      <td>SEMA3C</td>\n",
       "      <td>hsa-mir-20a</td>\n",
       "      <td>CCNA2</td>\n",
       "      <td>DTWD2</td>\n",
       "      <td>NaN</td>\n",
       "      <td>NaN</td>\n",
       "    </tr>\n",
       "    <tr>\n",
       "      <th>2</th>\n",
       "      <td>Community3</td>\n",
       "      <td>Cyclin_E1</td>\n",
       "      <td>FMNL2</td>\n",
       "      <td>hsa-mir-17</td>\n",
       "      <td>INPP4B</td>\n",
       "      <td>CSRP2</td>\n",
       "      <td>PR</td>\n",
       "      <td>LMO4</td>\n",
       "      <td>hsa-mir-1301</td>\n",
       "      <td>hsa-mir-197</td>\n",
       "      <td>NaN</td>\n",
       "      <td>NaN</td>\n",
       "      <td>NaN</td>\n",
       "    </tr>\n",
       "  </tbody>\n",
       "</table>\n",
       "</div>"
      ],
      "text/plain": [
       "   Community0        MEX3A hsa-mir-106b       LRIG1          JNK2  KDM4B  \\\n",
       "0  Community1  hsa-mir-590       ZNF552  hsa-mir-93        MED13L   NTN4   \n",
       "1  Community2      SLC43A3           AR        ASNS  hsa-mir-146a   FUT8   \n",
       "2  Community3    Cyclin_E1        FMNL2  hsa-mir-17        INPP4B  CSRP2   \n",
       "\n",
       "  TTC39A ER-alpha   hsa-mir-505    Cyclin_B1 hsa-mir-130b hsa-let-7d  \\\n",
       "0   STC2  C4orf34          E2F1  hsa-mir-186         ASPM      GATA3   \n",
       "1  PREX1   SEMA3C   hsa-mir-20a        CCNA2        DTWD2        NaN   \n",
       "2     PR     LMO4  hsa-mir-1301  hsa-mir-197          NaN        NaN   \n",
       "\n",
       "  hsa-mir-106a  \n",
       "0  hsa-mir-532  \n",
       "1          NaN  \n",
       "2          NaN  "
      ]
     },
     "execution_count": 14,
     "metadata": {},
     "output_type": "execute_result"
    }
   ],
   "source": [
    "tcga_communities = pd.read_csv(path+\"tcga_communities.csv\")\n",
    "tcga_communities"
   ]
  },
  {
   "cell_type": "markdown",
   "id": "c6711066",
   "metadata": {},
   "source": [
    "### Top 10 ranked nodes in the network"
   ]
  },
  {
   "cell_type": "code",
   "execution_count": 16,
   "id": "e7bcf5c2",
   "metadata": {},
   "outputs": [
    {
     "data": {
      "text/html": [
       "<div>\n",
       "<style scoped>\n",
       "    .dataframe tbody tr th:only-of-type {\n",
       "        vertical-align: middle;\n",
       "    }\n",
       "\n",
       "    .dataframe tbody tr th {\n",
       "        vertical-align: top;\n",
       "    }\n",
       "\n",
       "    .dataframe thead th {\n",
       "        text-align: right;\n",
       "    }\n",
       "</style>\n",
       "<table border=\"1\" class=\"dataframe\">\n",
       "  <thead>\n",
       "    <tr style=\"text-align: right;\">\n",
       "      <th></th>\n",
       "      <th>Node</th>\n",
       "      <th>Score</th>\n",
       "    </tr>\n",
       "  </thead>\n",
       "  <tbody>\n",
       "    <tr>\n",
       "      <th>0</th>\n",
       "      <td>NTN4</td>\n",
       "      <td>4.8</td>\n",
       "    </tr>\n",
       "    <tr>\n",
       "      <th>1</th>\n",
       "      <td>SLC43A3</td>\n",
       "      <td>5.0</td>\n",
       "    </tr>\n",
       "    <tr>\n",
       "      <th>2</th>\n",
       "      <td>STC2</td>\n",
       "      <td>6.4</td>\n",
       "    </tr>\n",
       "    <tr>\n",
       "      <th>3</th>\n",
       "      <td>JNK2</td>\n",
       "      <td>6.8</td>\n",
       "    </tr>\n",
       "    <tr>\n",
       "      <th>4</th>\n",
       "      <td>INPP4B</td>\n",
       "      <td>7.0</td>\n",
       "    </tr>\n",
       "    <tr>\n",
       "      <th>5</th>\n",
       "      <td>Cyclin_B1</td>\n",
       "      <td>7.4</td>\n",
       "    </tr>\n",
       "    <tr>\n",
       "      <th>6</th>\n",
       "      <td>hsa-mir-106b</td>\n",
       "      <td>7.8</td>\n",
       "    </tr>\n",
       "    <tr>\n",
       "      <th>7</th>\n",
       "      <td>ZNF552</td>\n",
       "      <td>9.6</td>\n",
       "    </tr>\n",
       "    <tr>\n",
       "      <th>8</th>\n",
       "      <td>hsa-mir-505</td>\n",
       "      <td>10.2</td>\n",
       "    </tr>\n",
       "    <tr>\n",
       "      <th>9</th>\n",
       "      <td>GATA3</td>\n",
       "      <td>11.0</td>\n",
       "    </tr>\n",
       "  </tbody>\n",
       "</table>\n",
       "</div>"
      ],
      "text/plain": [
       "           Node  Score\n",
       "0          NTN4    4.8\n",
       "1       SLC43A3    5.0\n",
       "2          STC2    6.4\n",
       "3          JNK2    6.8\n",
       "4        INPP4B    7.0\n",
       "5     Cyclin_B1    7.4\n",
       "6  hsa-mir-106b    7.8\n",
       "7        ZNF552    9.6\n",
       "8   hsa-mir-505   10.2\n",
       "9         GATA3   11.0"
      ]
     },
     "execution_count": 16,
     "metadata": {},
     "output_type": "execute_result"
    }
   ],
   "source": [
    "toprank_df = pd.read_csv(path+\"TCGA_Rank_score_nodes.txt\", sep=\"\\t\")\n",
    "toprank_df[:10]"
   ]
  },
  {
   "cell_type": "code",
   "execution_count": null,
   "id": "bdba83a7",
   "metadata": {},
   "outputs": [],
   "source": []
  }
 ],
 "metadata": {
  "kernelspec": {
   "display_name": "Python 3 (ipykernel)",
   "language": "python",
   "name": "python3"
  },
  "language_info": {
   "codemirror_mode": {
    "name": "ipython",
    "version": 3
   },
   "file_extension": ".py",
   "mimetype": "text/x-python",
   "name": "python",
   "nbconvert_exporter": "python",
   "pygments_lexer": "ipython3",
   "version": "3.9.7"
  }
 },
 "nbformat": 4,
 "nbformat_minor": 5
}
