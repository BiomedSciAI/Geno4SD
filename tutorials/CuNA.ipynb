{
 "cells": [
  {
   "cell_type": "markdown",
   "id": "24716b2c",
   "metadata": {},
   "source": [
    "# Tutorial for CuNA \n",
    "\n",
    "CuNA has two parts to it: \n",
    "1. computing redescription groups by cumulants and \n",
    "2. performing network analysis after forming a network from the redescription groups."
   ]
  },
  {
   "cell_type": "code",
   "execution_count": 1,
   "id": "1d4ef7ee",
   "metadata": {},
   "outputs": [],
   "source": [
    "import pandas as pd \n",
    "import numpy as np \n",
    "import os, sys, time, random, math\n",
    "from geno4sd.topology.CuNA import cumulants, CuNA"
   ]
  },
  {
   "cell_type": "markdown",
   "id": "609a7954",
   "metadata": {},
   "source": [
    "### Read data\n",
    "We use a sample data from TCGA Breast cancer study. We have selected a subset of mRNAs, miRNAs and proteins which are associated with breast cancer in this data. "
   ]
  },
  {
   "cell_type": "code",
   "execution_count": 6,
   "id": "5137366e",
   "metadata": {},
   "outputs": [
    {
     "name": "stdout",
     "output_type": "stream",
     "text": [
      "Number of individuals:  150\n",
      "Number of features:  44\n"
     ]
    }
   ],
   "source": [
    "fname = '../sample_data/CuNA_TCGA_sample_data.csv'\n",
    "df = pd.read_csv(fname)\n",
    "print(\"Number of individuals: \", df.shape[0])\n",
    "print(\"Number of features: \", df.shape[1])\n",
    "\n",
    "df = df.sample(n=25, axis='columns', random_state=123)\n",
    "ids = df.columns[0]\n",
    "df.drop(df.columns[0], axis=1, inplace=True)\n",
    "i_fname = os.path.basename(fname).split('.')[0]"
   ]
  },
  {
   "cell_type": "markdown",
   "id": "2fa64606",
   "metadata": {},
   "source": [
    "### Computing Cumulants"
   ]
  },
  {
   "cell_type": "code",
   "execution_count": 7,
   "id": "80dd9948",
   "metadata": {},
   "outputs": [
    {
     "name": "stdout",
     "output_type": "stream",
     "text": [
      "Time spent computing cumulants (mins):  0.14253523747126262\n"
     ]
    }
   ],
   "source": [
    "beg_time = time.time()\n",
    "cumulants_df = cumulants.getCumulants(df)\n",
    "print(\"Time spent computing cumulants (mins): \", (time.time() - beg_time)/60)"
   ]
  },
  {
   "cell_type": "markdown",
   "id": "a11a9c07",
   "metadata": {},
   "source": [
    "#### The p-value input should be a list of p-values. "
   ]
  },
  {
   "cell_type": "code",
   "execution_count": 8,
   "id": "23177fd9",
   "metadata": {},
   "outputs": [],
   "source": [
    "#p-value threshold\n",
    "p = [1e-5, 1e-6, 1e-7]\n",
    "\n",
    "#percentage thresholds of` (0.9, 0.1)\n",
    "cutofflist = np.linspace(0.9,0.1,17)"
   ]
  },
  {
   "cell_type": "markdown",
   "id": "e261ce4d",
   "metadata": {},
   "source": [
    "### Computing CuNA (Cumulant-based network analysis)\n",
    "CuNA returns the following:\n",
    "    1. A dataframe with edges in its rows and the connected vertices in columns along with the statistical significance (measured by p-value) from the Fisher Exact test. \n",
    "    2. **count** or weight of the edge. \n",
    "    3. A dataframe of varying row lengths (contains None for empty fields) with the community membership information for all the vertices. \n",
    "    4. A dataframe with node rank. A score indicating the importance of each vertex across different centrality measures. The lower the score means higher the importance. "
   ]
  },
  {
   "cell_type": "code",
   "execution_count": 9,
   "id": "05816a62",
   "metadata": {},
   "outputs": [
    {
     "name": "stdout",
     "output_type": "stream",
     "text": [
      "Time spent computing CuNA network (mins):  0.47827444871266683\n"
     ]
    }
   ],
   "source": [
    "beg_time = time.time()\n",
    "interactions, nodes, communities, noderank = CuNA.get_network(cumulants_df, 0, p, verbose=0)\n",
    "print(\"Time spent computing CuNA network (mins): \", (time.time() - beg_time)/60)"
   ]
  },
  {
   "cell_type": "markdown",
   "id": "e405e53a",
   "metadata": {},
   "source": [
    "Communities in the network"
   ]
  },
  {
   "cell_type": "code",
   "execution_count": 10,
   "id": "48ee1c78",
   "metadata": {},
   "outputs": [
    {
     "name": "stdout",
     "output_type": "stream",
     "text": [
      "                       0           1       2             3           4      5  \\\n",
      "Community0   hsa-mir-20a  hsa-mir-93      PR  hsa-mir-106a  hsa-mir-17  CSRP2   \n",
      "Community1  hsa-mir-130b     C4orf34  SEMA3C          FUT8      MED13L     AR   \n",
      "Community2         MEX3A        JNK2   PREX1        INPP4B      ZNF552   E2F1   \n",
      "\n",
      "                      6            7             8  \n",
      "Community0      SLC43A3  hsa-mir-186  hsa-mir-1301  \n",
      "Community1  hsa-mir-505         ASNS         CCNA2  \n",
      "Community2         None         None          None  \n"
     ]
    }
   ],
   "source": [
    "print(communities)"
   ]
  },
  {
   "cell_type": "markdown",
   "id": "c0c5a9ec",
   "metadata": {},
   "source": [
    "Top 10 ranked nodes in the network"
   ]
  },
  {
   "cell_type": "code",
   "execution_count": 11,
   "id": "4e43a747",
   "metadata": {},
   "outputs": [
    {
     "data": {
      "text/html": [
       "<div>\n",
       "<style scoped>\n",
       "    .dataframe tbody tr th:only-of-type {\n",
       "        vertical-align: middle;\n",
       "    }\n",
       "\n",
       "    .dataframe tbody tr th {\n",
       "        vertical-align: top;\n",
       "    }\n",
       "\n",
       "    .dataframe thead th {\n",
       "        text-align: right;\n",
       "    }\n",
       "</style>\n",
       "<table border=\"1\" class=\"dataframe\">\n",
       "  <thead>\n",
       "    <tr style=\"text-align: right;\">\n",
       "      <th></th>\n",
       "      <th>Node</th>\n",
       "      <th>Score</th>\n",
       "    </tr>\n",
       "  </thead>\n",
       "  <tbody>\n",
       "    <tr>\n",
       "      <th>9</th>\n",
       "      <td>PREX1</td>\n",
       "      <td>3.8</td>\n",
       "    </tr>\n",
       "    <tr>\n",
       "      <th>6</th>\n",
       "      <td>C4orf34</td>\n",
       "      <td>4.6</td>\n",
       "    </tr>\n",
       "    <tr>\n",
       "      <th>3</th>\n",
       "      <td>SLC43A3</td>\n",
       "      <td>4.8</td>\n",
       "    </tr>\n",
       "    <tr>\n",
       "      <th>7</th>\n",
       "      <td>JNK2</td>\n",
       "      <td>5.0</td>\n",
       "    </tr>\n",
       "    <tr>\n",
       "      <th>1</th>\n",
       "      <td>CCNA2</td>\n",
       "      <td>5.4</td>\n",
       "    </tr>\n",
       "    <tr>\n",
       "      <th>21</th>\n",
       "      <td>INPP4B</td>\n",
       "      <td>8.2</td>\n",
       "    </tr>\n",
       "    <tr>\n",
       "      <th>0</th>\n",
       "      <td>ZNF552</td>\n",
       "      <td>10.0</td>\n",
       "    </tr>\n",
       "    <tr>\n",
       "      <th>5</th>\n",
       "      <td>PR</td>\n",
       "      <td>10.4</td>\n",
       "    </tr>\n",
       "    <tr>\n",
       "      <th>13</th>\n",
       "      <td>hsa-mir-186</td>\n",
       "      <td>10.8</td>\n",
       "    </tr>\n",
       "    <tr>\n",
       "      <th>15</th>\n",
       "      <td>SEMA3C</td>\n",
       "      <td>11.0</td>\n",
       "    </tr>\n",
       "  </tbody>\n",
       "</table>\n",
       "</div>"
      ],
      "text/plain": [
       "           Node  Score\n",
       "9         PREX1    3.8\n",
       "6       C4orf34    4.6\n",
       "3       SLC43A3    4.8\n",
       "7          JNK2    5.0\n",
       "1         CCNA2    5.4\n",
       "21       INPP4B    8.2\n",
       "0        ZNF552   10.0\n",
       "5            PR   10.4\n",
       "13  hsa-mir-186   10.8\n",
       "15       SEMA3C   11.0"
      ]
     },
     "execution_count": 11,
     "metadata": {},
     "output_type": "execute_result"
    }
   ],
   "source": [
    "noderank.sort_values(by='Score')[:10]"
   ]
  }
 ],
 "metadata": {
  "kernelspec": {
   "display_name": "Python 3",
   "language": "python",
   "name": "python3"
  },
  "language_info": {
   "codemirror_mode": {
    "name": "ipython",
    "version": 3
   },
   "file_extension": ".py",
   "mimetype": "text/x-python",
   "name": "python",
   "nbconvert_exporter": "python",
   "pygments_lexer": "ipython3",
   "version": "3.7.4"
  }
 },
 "nbformat": 4,
 "nbformat_minor": 5
}
