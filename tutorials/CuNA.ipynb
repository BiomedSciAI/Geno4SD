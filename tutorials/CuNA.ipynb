{
 "cells": [
  {
   "cell_type": "markdown",
   "id": "567c5523",
   "metadata": {},
   "source": [
    "# Tutorial for CuNA \n",
    "\n",
    "CuNA has two parts to it: \n",
    "1. computing redescription groups by cumulants and \n",
    "2. performing network analysis after forming a network from the redescription groups."
   ]
  },
  {
   "cell_type": "code",
   "execution_count": 1,
   "id": "4c91949d",
   "metadata": {},
   "outputs": [
    {
     "name": "stdout",
     "output_type": "stream",
     "text": [
      "/home/abose/PD/new/Geno4SD-Innersource\n"
     ]
    }
   ],
   "source": [
    "%cd \"/home/abose/PD/new/Geno4SD-Innersource/\"\n",
    "import pandas as pd \n",
    "import numpy as np \n",
    "import os, sys, time, random, math\n",
    "from geno4sd.topology.CuNA import cumulants, cuna, cures\n",
    "\n",
    "import matplotlib.pyplot as plt\n",
    "import seaborn as sns\n",
    "#warnings.filterwarnings('ignore')\n"
   ]
  },
  {
   "cell_type": "markdown",
   "id": "6d4e8ea3",
   "metadata": {},
   "source": [
    "### Read data\n",
    "We use a sample data from TCGA Breast cancer study. We have selected a subset of mRNAs, miRNAs and proteins which are associated with breast cancer in this data. "
   ]
  },
  {
   "cell_type": "code",
   "execution_count": 67,
   "id": "0a7e9c8e",
   "metadata": {},
   "outputs": [
    {
     "name": "stdout",
     "output_type": "stream",
     "text": [
      "Number of individuals:  736\n",
      "Number of features:  61\n"
     ]
    }
   ],
   "source": [
    "path = '/home/abose/PD/new/Data/'\n",
    "df = pd.read_csv(path+'ppmi_features_toCuNA.csv')\n",
    "df.index=df['PATNO']\n",
    "y = df['Dx']\n",
    "\n",
    "df.drop(['PATNO','Dx'], axis=1, inplace=True)\n",
    "print(\"Number of individuals: \", df.shape[0])\n",
    "print(\"Number of features: \", df.shape[1])\n"
   ]
  },
  {
   "cell_type": "code",
   "execution_count": 68,
   "id": "1133916e",
   "metadata": {},
   "outputs": [
    {
     "data": {
      "text/plain": [
       "['NP2WALK',\n",
       " 'NP3KTRMR',\n",
       " 'NP3PTRML',\n",
       " 'NP3FTAPL',\n",
       " 'NP1FATG',\n",
       " 'NP3PTRMR',\n",
       " 'NP2TRMR',\n",
       " 'NP3BRADY',\n",
       " 'NP2SWAL',\n",
       " 'NP3POSTR',\n",
       " 'NP3RIGRU',\n",
       " 'NP2SALV',\n",
       " 'NP3LGAGR',\n",
       " 'NP3FTAPR',\n",
       " 'PN3RIGRL',\n",
       " 'NP3RTARU',\n",
       " 'NP1URIN',\n",
       " 'DxPro',\n",
       " 'NP3PRSPL',\n",
       " 'NP3PRSPR',\n",
       " 'DYSKPRES',\n",
       " 'NP3TTAPR',\n",
       " 'Sex',\n",
       " 'NP2HWRT',\n",
       " 'NP1CNST',\n",
       " 'NP3KTRML',\n",
       " 'NP3RTALU',\n",
       " 'Age',\n",
       " 'NP3HMOVR',\n",
       " 'NP1LTHD',\n",
       " 'NP2SPCH',\n",
       " 'NP3LGAGL',\n",
       " 'NP3RIGLU',\n",
       " 'NP3HMOVL',\n",
       " 'NP3TTAPL',\n",
       " 'NP1SLPD',\n",
       " 'NP1PAIN',\n",
       " 'NHY',\n",
       " 'NP2FREZ',\n",
       " 'NP1SLPN',\n",
       " 'NP3RIGLL',\n",
       " 'MTCH1',\n",
       " 'DGCR8',\n",
       " 'OVOL3',\n",
       " 'RPL13A',\n",
       " 'EIF3F',\n",
       " 'OR4B1',\n",
       " 'MAP4K2',\n",
       " 'GREB1',\n",
       " 'RP11-409K20.6',\n",
       " 'MGST2',\n",
       " 'MFAP3L',\n",
       " 'RNF34',\n",
       " 'TCEB1',\n",
       " 'PFKFB3',\n",
       " 'ZNF33B',\n",
       " 'DNAJC12',\n",
       " 'MLKL',\n",
       " 'FAM131A',\n",
       " 'SPTLC2',\n",
       " 'CCDC85C']"
      ]
     },
     "execution_count": 68,
     "metadata": {},
     "output_type": "execute_result"
    }
   ],
   "source": [
    "[x for x in df.columns]"
   ]
  },
  {
   "cell_type": "markdown",
   "id": "51b6c298",
   "metadata": {},
   "source": [
    "### Computing Cumulants"
   ]
  },
  {
   "cell_type": "code",
   "execution_count": 69,
   "id": "7706a8aa",
   "metadata": {},
   "outputs": [
    {
     "name": "stdout",
     "output_type": "stream",
     "text": [
      "Time spent computing cumulants (mins):  6.1827079574267065\n"
     ]
    }
   ],
   "source": [
    "beg_time = time.time()\n",
    "cumulants_df, vec_df = cumulants.get_cumulants(df)\n",
    "print(\"Time spent computing cumulants (mins): \", (time.time() - beg_time)/60)"
   ]
  },
  {
   "cell_type": "code",
   "execution_count": 70,
   "id": "28444066",
   "metadata": {},
   "outputs": [
    {
     "name": "stdout",
     "output_type": "stream",
     "text": [
      "Number of significant redescription groups:  231310\n"
     ]
    }
   ],
   "source": [
    "filt_cumulants_df = cumulants_df[cumulants_df['P'] < 0.05]  \n",
    "filt_vec_df = vec_df[vec_df.k.isin(list(filt_cumulants_df.index))]\n",
    "print(\"Number of significant redescription groups: \", filt_vec_df.shape[0])"
   ]
  },
  {
   "cell_type": "code",
   "execution_count": 27,
   "id": "7f13951d",
   "metadata": {},
   "outputs": [
    {
     "name": "stderr",
     "output_type": "stream",
     "text": [
      "/home/abose/PD/Pkgs/anaconda3/lib/python3.9/site-packages/sklearn/svm/_base.py:985: ConvergenceWarning: Liblinear failed to converge, increase the number of iterations.\n",
      "  warnings.warn(\"Liblinear failed to converge, increase \"\n",
      "/home/abose/PD/Pkgs/anaconda3/lib/python3.9/site-packages/sklearn/svm/_base.py:985: ConvergenceWarning: Liblinear failed to converge, increase the number of iterations.\n",
      "  warnings.warn(\"Liblinear failed to converge, increase \"\n",
      "/home/abose/PD/Pkgs/anaconda3/lib/python3.9/site-packages/sklearn/svm/_base.py:985: ConvergenceWarning: Liblinear failed to converge, increase the number of iterations.\n",
      "  warnings.warn(\"Liblinear failed to converge, increase \"\n",
      "/home/abose/PD/Pkgs/anaconda3/lib/python3.9/site-packages/sklearn/svm/_base.py:985: ConvergenceWarning: Liblinear failed to converge, increase the number of iterations.\n",
      "  warnings.warn(\"Liblinear failed to converge, increase \"\n",
      "/home/abose/PD/Pkgs/anaconda3/lib/python3.9/site-packages/sklearn/svm/_base.py:985: ConvergenceWarning: Liblinear failed to converge, increase the number of iterations.\n",
      "  warnings.warn(\"Liblinear failed to converge, increase \"\n",
      "/home/abose/PD/Pkgs/anaconda3/lib/python3.9/site-packages/sklearn/svm/_base.py:985: ConvergenceWarning: Liblinear failed to converge, increase the number of iterations.\n",
      "  warnings.warn(\"Liblinear failed to converge, increase \"\n",
      "/home/abose/PD/Pkgs/anaconda3/lib/python3.9/site-packages/sklearn/svm/_base.py:985: ConvergenceWarning: Liblinear failed to converge, increase the number of iterations.\n",
      "  warnings.warn(\"Liblinear failed to converge, increase \"\n",
      "/home/abose/PD/Pkgs/anaconda3/lib/python3.9/site-packages/sklearn/svm/_base.py:985: ConvergenceWarning: Liblinear failed to converge, increase the number of iterations.\n",
      "  warnings.warn(\"Liblinear failed to converge, increase \"\n",
      "/home/abose/PD/Pkgs/anaconda3/lib/python3.9/site-packages/sklearn/svm/_base.py:985: ConvergenceWarning: Liblinear failed to converge, increase the number of iterations.\n",
      "  warnings.warn(\"Liblinear failed to converge, increase \"\n"
     ]
    },
    {
     "name": "stdout",
     "output_type": "stream",
     "text": [
      "Best performing logistic regression model on training data:  {'C': 10.0, 'max_iter': 1000, 'penalty': 'l1', 'solver': 'liblinear'}\n",
      "-------------------------------------\n",
      "Model fitting complete\n",
      "-------------------------------------\n",
      "True Positive(TP)  =  123\n",
      "False Positive(FP) =  31\n",
      "True Negative(TN)  =  43\n",
      "False Negative(FN) =  3\n",
      "-------------------------------------\n",
      "ROC AUC score of fitted model on test data:  0.8072715572715572\n",
      "-------------------------------------\n",
      "F1 score of fitted model on test data:  0.8186666666666667\n",
      "-------------------------------------\n",
      "\n",
      "**************************************\n",
      "Computing CuReS\n",
      "**************************************\n",
      "Fitting logistic regression after train-test split\n",
      "Best performing logistic regression model on training data:  {'C': 0.001, 'max_iter': 1000, 'penalty': 'l1', 'solver': 'liblinear'}\n",
      "CuReS prediction statistics\n",
      "**************************************\n",
      "-------------------------------------\n",
      "Model fitting complete\n",
      "-------------------------------------\n",
      "True Positive(TP)  =  123\n",
      "False Positive(FP) =  31\n",
      "True Negative(TN)  =  43\n",
      "False Negative(FN) =  3\n",
      "-------------------------------------\n",
      "ROC AUC score of fitted model on test data:  0.8137065637065637\n",
      "-------------------------------------\n",
      "F1 score of fitted model on test data:  0.8186666666666667\n",
      "-------------------------------------\n",
      "\n",
      "**************************************\n",
      "Associating CuReS with phenotype\n",
      "**************************************\n",
      "Optimization terminated successfully.\n",
      "         Current function value: 0.456620\n",
      "         Iterations 7\n",
      "Time spent computing cures (mins):  0.4643370032310486\n"
     ]
    }
   ],
   "source": [
    "beg_time = time.time()\n",
    "\n",
    "cures_vec, res, assoc = cures.get_cures(filt_vec_df.set_index('k').T, \n",
    "                                        y, \n",
    "                                        verbose=1,               \n",
    "                                        fit_cures=True)\n",
    "\n",
    "print(\"Time spent computing cures (mins): \", (time.time() - beg_time)/60)\n"
   ]
  },
  {
   "cell_type": "code",
   "execution_count": 30,
   "id": "e5cffe13",
   "metadata": {},
   "outputs": [
    {
     "data": {
      "text/plain": [
       "<matplotlib.collections.PolyCollection at 0x7fd9a8719d00>"
      ]
     },
     "execution_count": 30,
     "metadata": {},
     "output_type": "execute_result"
    },
    {
     "data": {
      "image/png": "[encoded data removed]",
      "text/plain": [
       "<Figure size 432x288 with 1 Axes>"
      ]
     },
     "metadata": {},
     "output_type": "display_data"
    }
   ],
   "source": [
    "cures_vec_ = [x for sublist in list(cures_vec) for x in sublist]\n",
    "cures_df = pd.DataFrame()\n",
    "cures_df['cures'] = cures_vec_\n",
    "cures_df['decile'] = pd.qcut(cures_df['cures'], 10, labels=False, duplicates='drop')\n",
    "\n",
    "thres_decile = 9\n",
    "nth_decile = np.min(cures_df[cures_df['decile'] >= thres_decile]['cures'])\n",
    "\n",
    "fig = plt.figure(figsize=(6,4))\n",
    "points = sns.kdeplot(data = cures_df, \n",
    "                     x='cures',\n",
    "                     shade= False).get_lines()[0].get_data()\n",
    "\n",
    "x1 = points[0]\n",
    "y1 = points[1]\n",
    "\n",
    "plt.fill_between(x1,y1, where = x1 > nth_decile, color='r', alpha=0.5)"
   ]
  },
  {
   "cell_type": "code",
   "execution_count": 31,
   "id": "b1045a99",
   "metadata": {},
   "outputs": [],
   "source": [
    "fig.savefig(\"/home/abose/PD/new/Data/CuReSplot_mockdata_pheno0.png\",\n",
    "               dpi=600, bbox_inches='tight')"
   ]
  },
  {
   "cell_type": "code",
   "execution_count": 7,
   "id": "aab647d7",
   "metadata": {},
   "outputs": [],
   "source": [
    "cumulants_df.to_csv('test.csv', index=False)"
   ]
  },
  {
   "cell_type": "markdown",
   "id": "96b80889",
   "metadata": {},
   "source": [
    "#### The p-value input should be a list of p-values. "
   ]
  },
  {
   "cell_type": "code",
   "execution_count": 60,
   "id": "e77ec885",
   "metadata": {},
   "outputs": [],
   "source": [
    "#p-value threshold\n",
    "p = [1e-5, 1e-6, 1e-7]\n",
    "\n",
    "#percentage thresholds of` (0.9, 0.1)\n",
    "cutofflist = np.linspace(0.9,0.1,17)"
   ]
  },
  {
   "cell_type": "markdown",
   "id": "a83cd737",
   "metadata": {},
   "source": [
    "### Computing CuNA (Cumulant-based network analysis)\n",
    "CuNA returns the following:\n",
    "    1. A dataframe with edges in its rows and the connected vertices in columns along with the statistical significance (measured by p-value) from the Fisher Exact test. \n",
    "    2. **count** or weight of the edge. \n",
    "    3. A dataframe of varying row lengths (contains None for empty fields) with the community membership information for all the vertices. \n",
    "    4. A dataframe with node rank. A score indicating the importance of each vertex across different centrality measures. The lower the score means higher the importance. "
   ]
  },
  {
   "cell_type": "code",
   "execution_count": 72,
   "id": "12d420a9",
   "metadata": {},
   "outputs": [
    {
     "name": "stdout",
     "output_type": "stream",
     "text": [
      "Time spent computing CuNA network (mins):  60.88270440896352\n"
     ]
    }
   ],
   "source": [
    "beg_time = time.time()\n",
    "p = [1e-2, 1e-5, 1e-8]\n",
    "interactions, nodes, communities, noderank = cuna.get_network(cumulants_df.copy(),\n",
    "                                                              0, \n",
    "                                                              p, \n",
    "                                                              verbose=0)\n",
    "print(\"Time spent computing CuNA network (mins): \", (time.time() - beg_time)/60)"
   ]
  },
  {
   "cell_type": "markdown",
   "id": "fd3fdf38",
   "metadata": {},
   "source": [
    "Communities in the network"
   ]
  },
  {
   "cell_type": "code",
   "execution_count": 73,
   "id": "6d2b6ae8",
   "metadata": {},
   "outputs": [],
   "source": [
    "interactions.to_csv('/home/abose/PD/new/Data/cuna_ppmi_interactions_v4.csv', index=False)"
   ]
  },
  {
   "cell_type": "markdown",
   "id": "c6711066",
   "metadata": {},
   "source": [
    "Top 10 ranked nodes in the network"
   ]
  },
  {
   "cell_type": "code",
   "execution_count": 74,
   "id": "65ffa333",
   "metadata": {},
   "outputs": [],
   "source": [
    "noderank.to_csv('/home/abose/PD/new/Data/cuna_ppmi_noderank_v4.csv', index=False)"
   ]
  },
  {
   "cell_type": "code",
   "execution_count": 75,
   "id": "a733d834",
   "metadata": {},
   "outputs": [
    {
     "data": {
      "text/plain": [
       "array(['DGCR8', 'SPTLC2', 'RPL13A', 'TCEB1', 'ZNF33B', 'FAM131A',\n",
       "       'DYSKPRES', 'DNAJC12', 'MAP4K2', 'MTCH1', 'NP2SPCH', 'NHY',\n",
       "       'OVOL3', 'NP3BRADY', 'NP2WALK', 'NP2FREZ', 'NP3TTAPR', 'NP2SWAL',\n",
       "       'EIF3F', 'NP3LGAGR', 'NP1FATG', 'GREB1', 'NP3PTRML', 'PFKFB3',\n",
       "       'NP3FTAPL', 'NP3HMOVL', 'NP3KTRMR', 'NP3RIGRU', 'MGST2', 'MFAP3L',\n",
       "       'RNF34', 'NP3LGAGL', 'NP1SLPD', 'MLKL', 'NP2SALV', 'NP3POSTR',\n",
       "       'NP3PRSPR', 'NP3PTRMR', 'NP3KTRML', 'NP1SLPN', 'NP3HMOVR',\n",
       "       'NP3PRSPL', 'NP3RTARU', 'NP1LTHD', 'NP1URIN', 'NP1PAIN', 'OR4B1',\n",
       "       'NP2HWRT', 'Age', 'CCDC85C', 'RP11-409K20.6', 'NP2TRMR',\n",
       "       'NP3RIGLU', 'NP1CNST', 'Sex', 'NP3FTAPR', 'PN3RIGRL', 'NP3RTALU',\n",
       "       'NP3TTAPL', 'NP3RIGLL'], dtype=object)"
      ]
     },
     "execution_count": 75,
     "metadata": {},
     "output_type": "execute_result"
    }
   ],
   "source": [
    "nodes"
   ]
  },
  {
   "cell_type": "code",
   "execution_count": 79,
   "id": "e7bcf5c2",
   "metadata": {},
   "outputs": [
    {
     "data": {
      "text/plain": [
       "{'NP1PAIN',\n",
       " 'NP1SLPN',\n",
       " 'NP1URIN',\n",
       " 'NP3FTAPR',\n",
       " 'NP3KTRML',\n",
       " 'NP3KTRMR',\n",
       " 'NP3PTRML',\n",
       " 'NP3PTRMR',\n",
       " 'NP3RTALU',\n",
       " None,\n",
       " 'OR4B1'}"
      ]
     },
     "execution_count": 79,
     "metadata": {},
     "output_type": "execute_result"
    }
   ],
   "source": [
    "set(communities.iloc[2,:])"
   ]
  },
  {
   "cell_type": "code",
   "execution_count": 80,
   "id": "5ede7175",
   "metadata": {},
   "outputs": [
    {
     "data": {
      "text/html": [
       "<div>\n",
       "<style scoped>\n",
       "    .dataframe tbody tr th:only-of-type {\n",
       "        vertical-align: middle;\n",
       "    }\n",
       "\n",
       "    .dataframe tbody tr th {\n",
       "        vertical-align: top;\n",
       "    }\n",
       "\n",
       "    .dataframe thead th {\n",
       "        text-align: right;\n",
       "    }\n",
       "</style>\n",
       "<table border=\"1\" class=\"dataframe\">\n",
       "  <thead>\n",
       "    <tr style=\"text-align: right;\">\n",
       "      <th></th>\n",
       "      <th>Node</th>\n",
       "      <th>Score</th>\n",
       "    </tr>\n",
       "  </thead>\n",
       "  <tbody>\n",
       "    <tr>\n",
       "      <th>9</th>\n",
       "      <td>MTCH1</td>\n",
       "      <td>10.60</td>\n",
       "    </tr>\n",
       "    <tr>\n",
       "      <th>8</th>\n",
       "      <td>MAP4K2</td>\n",
       "      <td>10.60</td>\n",
       "    </tr>\n",
       "    <tr>\n",
       "      <th>2</th>\n",
       "      <td>RPL13A</td>\n",
       "      <td>11.40</td>\n",
       "    </tr>\n",
       "    <tr>\n",
       "      <th>5</th>\n",
       "      <td>FAM131A</td>\n",
       "      <td>12.20</td>\n",
       "    </tr>\n",
       "    <tr>\n",
       "      <th>3</th>\n",
       "      <td>TCEB1</td>\n",
       "      <td>14.60</td>\n",
       "    </tr>\n",
       "    <tr>\n",
       "      <th>18</th>\n",
       "      <td>EIF3F</td>\n",
       "      <td>14.80</td>\n",
       "    </tr>\n",
       "    <tr>\n",
       "      <th>1</th>\n",
       "      <td>SPTLC2</td>\n",
       "      <td>15.20</td>\n",
       "    </tr>\n",
       "    <tr>\n",
       "      <th>4</th>\n",
       "      <td>ZNF33B</td>\n",
       "      <td>15.40</td>\n",
       "    </tr>\n",
       "    <tr>\n",
       "      <th>7</th>\n",
       "      <td>DNAJC12</td>\n",
       "      <td>15.60</td>\n",
       "    </tr>\n",
       "    <tr>\n",
       "      <th>0</th>\n",
       "      <td>DGCR8</td>\n",
       "      <td>16.40</td>\n",
       "    </tr>\n",
       "    <tr>\n",
       "      <th>26</th>\n",
       "      <td>NP3KTRMR</td>\n",
       "      <td>16.80</td>\n",
       "    </tr>\n",
       "    <tr>\n",
       "      <th>15</th>\n",
       "      <td>NP2FREZ</td>\n",
       "      <td>17.20</td>\n",
       "    </tr>\n",
       "    <tr>\n",
       "      <th>49</th>\n",
       "      <td>CCDC85C</td>\n",
       "      <td>18.00</td>\n",
       "    </tr>\n",
       "    <tr>\n",
       "      <th>23</th>\n",
       "      <td>PFKFB3</td>\n",
       "      <td>19.20</td>\n",
       "    </tr>\n",
       "    <tr>\n",
       "      <th>12</th>\n",
       "      <td>OVOL3</td>\n",
       "      <td>21.75</td>\n",
       "    </tr>\n",
       "    <tr>\n",
       "      <th>22</th>\n",
       "      <td>NP3PTRML</td>\n",
       "      <td>21.80</td>\n",
       "    </tr>\n",
       "    <tr>\n",
       "      <th>14</th>\n",
       "      <td>NP2WALK</td>\n",
       "      <td>21.80</td>\n",
       "    </tr>\n",
       "    <tr>\n",
       "      <th>21</th>\n",
       "      <td>GREB1</td>\n",
       "      <td>22.20</td>\n",
       "    </tr>\n",
       "    <tr>\n",
       "      <th>19</th>\n",
       "      <td>NP3LGAGR</td>\n",
       "      <td>23.20</td>\n",
       "    </tr>\n",
       "    <tr>\n",
       "      <th>59</th>\n",
       "      <td>NP3RIGLL</td>\n",
       "      <td>23.20</td>\n",
       "    </tr>\n",
       "    <tr>\n",
       "      <th>47</th>\n",
       "      <td>NP2HWRT</td>\n",
       "      <td>23.60</td>\n",
       "    </tr>\n",
       "    <tr>\n",
       "      <th>33</th>\n",
       "      <td>MLKL</td>\n",
       "      <td>24.40</td>\n",
       "    </tr>\n",
       "    <tr>\n",
       "      <th>29</th>\n",
       "      <td>MFAP3L</td>\n",
       "      <td>25.80</td>\n",
       "    </tr>\n",
       "    <tr>\n",
       "      <th>31</th>\n",
       "      <td>NP3LGAGL</td>\n",
       "      <td>25.80</td>\n",
       "    </tr>\n",
       "    <tr>\n",
       "      <th>30</th>\n",
       "      <td>RNF34</td>\n",
       "      <td>26.00</td>\n",
       "    </tr>\n",
       "    <tr>\n",
       "      <th>37</th>\n",
       "      <td>NP3PTRMR</td>\n",
       "      <td>26.20</td>\n",
       "    </tr>\n",
       "    <tr>\n",
       "      <th>17</th>\n",
       "      <td>NP2SWAL</td>\n",
       "      <td>26.50</td>\n",
       "    </tr>\n",
       "    <tr>\n",
       "      <th>10</th>\n",
       "      <td>NP2SPCH</td>\n",
       "      <td>27.00</td>\n",
       "    </tr>\n",
       "    <tr>\n",
       "      <th>35</th>\n",
       "      <td>NP3POSTR</td>\n",
       "      <td>27.00</td>\n",
       "    </tr>\n",
       "    <tr>\n",
       "      <th>38</th>\n",
       "      <td>NP3KTRML</td>\n",
       "      <td>28.00</td>\n",
       "    </tr>\n",
       "    <tr>\n",
       "      <th>46</th>\n",
       "      <td>OR4B1</td>\n",
       "      <td>28.80</td>\n",
       "    </tr>\n",
       "    <tr>\n",
       "      <th>41</th>\n",
       "      <td>NP3PRSPL</td>\n",
       "      <td>29.00</td>\n",
       "    </tr>\n",
       "    <tr>\n",
       "      <th>53</th>\n",
       "      <td>NP1CNST</td>\n",
       "      <td>30.40</td>\n",
       "    </tr>\n",
       "    <tr>\n",
       "      <th>16</th>\n",
       "      <td>NP3TTAPR</td>\n",
       "      <td>31.60</td>\n",
       "    </tr>\n",
       "    <tr>\n",
       "      <th>11</th>\n",
       "      <td>NHY</td>\n",
       "      <td>32.25</td>\n",
       "    </tr>\n",
       "    <tr>\n",
       "      <th>28</th>\n",
       "      <td>MGST2</td>\n",
       "      <td>33.50</td>\n",
       "    </tr>\n",
       "    <tr>\n",
       "      <th>27</th>\n",
       "      <td>NP3RIGRU</td>\n",
       "      <td>33.75</td>\n",
       "    </tr>\n",
       "    <tr>\n",
       "      <th>34</th>\n",
       "      <td>NP2SALV</td>\n",
       "      <td>34.25</td>\n",
       "    </tr>\n",
       "    <tr>\n",
       "      <th>50</th>\n",
       "      <td>RP11-409K20.6</td>\n",
       "      <td>34.40</td>\n",
       "    </tr>\n",
       "    <tr>\n",
       "      <th>6</th>\n",
       "      <td>DYSKPRES</td>\n",
       "      <td>34.60</td>\n",
       "    </tr>\n",
       "    <tr>\n",
       "      <th>43</th>\n",
       "      <td>NP1LTHD</td>\n",
       "      <td>35.20</td>\n",
       "    </tr>\n",
       "    <tr>\n",
       "      <th>39</th>\n",
       "      <td>NP1SLPN</td>\n",
       "      <td>35.80</td>\n",
       "    </tr>\n",
       "    <tr>\n",
       "      <th>58</th>\n",
       "      <td>NP3TTAPL</td>\n",
       "      <td>37.00</td>\n",
       "    </tr>\n",
       "    <tr>\n",
       "      <th>25</th>\n",
       "      <td>NP3HMOVL</td>\n",
       "      <td>37.40</td>\n",
       "    </tr>\n",
       "    <tr>\n",
       "      <th>56</th>\n",
       "      <td>PN3RIGRL</td>\n",
       "      <td>38.00</td>\n",
       "    </tr>\n",
       "    <tr>\n",
       "      <th>32</th>\n",
       "      <td>NP1SLPD</td>\n",
       "      <td>38.20</td>\n",
       "    </tr>\n",
       "    <tr>\n",
       "      <th>44</th>\n",
       "      <td>NP1URIN</td>\n",
       "      <td>38.75</td>\n",
       "    </tr>\n",
       "    <tr>\n",
       "      <th>24</th>\n",
       "      <td>NP3FTAPL</td>\n",
       "      <td>39.20</td>\n",
       "    </tr>\n",
       "    <tr>\n",
       "      <th>13</th>\n",
       "      <td>NP3BRADY</td>\n",
       "      <td>40.60</td>\n",
       "    </tr>\n",
       "    <tr>\n",
       "      <th>20</th>\n",
       "      <td>NP1FATG</td>\n",
       "      <td>42.20</td>\n",
       "    </tr>\n",
       "    <tr>\n",
       "      <th>57</th>\n",
       "      <td>NP3RTALU</td>\n",
       "      <td>42.60</td>\n",
       "    </tr>\n",
       "    <tr>\n",
       "      <th>48</th>\n",
       "      <td>Age</td>\n",
       "      <td>44.20</td>\n",
       "    </tr>\n",
       "    <tr>\n",
       "      <th>42</th>\n",
       "      <td>NP3RTARU</td>\n",
       "      <td>45.00</td>\n",
       "    </tr>\n",
       "    <tr>\n",
       "      <th>45</th>\n",
       "      <td>NP1PAIN</td>\n",
       "      <td>45.50</td>\n",
       "    </tr>\n",
       "    <tr>\n",
       "      <th>36</th>\n",
       "      <td>NP3PRSPR</td>\n",
       "      <td>45.75</td>\n",
       "    </tr>\n",
       "    <tr>\n",
       "      <th>54</th>\n",
       "      <td>Sex</td>\n",
       "      <td>50.00</td>\n",
       "    </tr>\n",
       "    <tr>\n",
       "      <th>40</th>\n",
       "      <td>NP3HMOVR</td>\n",
       "      <td>51.25</td>\n",
       "    </tr>\n",
       "    <tr>\n",
       "      <th>51</th>\n",
       "      <td>NP2TRMR</td>\n",
       "      <td>52.00</td>\n",
       "    </tr>\n",
       "    <tr>\n",
       "      <th>52</th>\n",
       "      <td>NP3RIGLU</td>\n",
       "      <td>52.00</td>\n",
       "    </tr>\n",
       "    <tr>\n",
       "      <th>55</th>\n",
       "      <td>NP3FTAPR</td>\n",
       "      <td>53.75</td>\n",
       "    </tr>\n",
       "  </tbody>\n",
       "</table>\n",
       "</div>"
      ],
      "text/plain": [
       "             Node  Score\n",
       "9           MTCH1  10.60\n",
       "8          MAP4K2  10.60\n",
       "2          RPL13A  11.40\n",
       "5         FAM131A  12.20\n",
       "3           TCEB1  14.60\n",
       "18          EIF3F  14.80\n",
       "1          SPTLC2  15.20\n",
       "4          ZNF33B  15.40\n",
       "7         DNAJC12  15.60\n",
       "0           DGCR8  16.40\n",
       "26       NP3KTRMR  16.80\n",
       "15        NP2FREZ  17.20\n",
       "49        CCDC85C  18.00\n",
       "23         PFKFB3  19.20\n",
       "12          OVOL3  21.75\n",
       "22       NP3PTRML  21.80\n",
       "14        NP2WALK  21.80\n",
       "21          GREB1  22.20\n",
       "19       NP3LGAGR  23.20\n",
       "59       NP3RIGLL  23.20\n",
       "47        NP2HWRT  23.60\n",
       "33           MLKL  24.40\n",
       "29         MFAP3L  25.80\n",
       "31       NP3LGAGL  25.80\n",
       "30          RNF34  26.00\n",
       "37       NP3PTRMR  26.20\n",
       "17        NP2SWAL  26.50\n",
       "10        NP2SPCH  27.00\n",
       "35       NP3POSTR  27.00\n",
       "38       NP3KTRML  28.00\n",
       "46          OR4B1  28.80\n",
       "41       NP3PRSPL  29.00\n",
       "53        NP1CNST  30.40\n",
       "16       NP3TTAPR  31.60\n",
       "11            NHY  32.25\n",
       "28          MGST2  33.50\n",
       "27       NP3RIGRU  33.75\n",
       "34        NP2SALV  34.25\n",
       "50  RP11-409K20.6  34.40\n",
       "6        DYSKPRES  34.60\n",
       "43        NP1LTHD  35.20\n",
       "39        NP1SLPN  35.80\n",
       "58       NP3TTAPL  37.00\n",
       "25       NP3HMOVL  37.40\n",
       "56       PN3RIGRL  38.00\n",
       "32        NP1SLPD  38.20\n",
       "44        NP1URIN  38.75\n",
       "24       NP3FTAPL  39.20\n",
       "13       NP3BRADY  40.60\n",
       "20        NP1FATG  42.20\n",
       "57       NP3RTALU  42.60\n",
       "48            Age  44.20\n",
       "42       NP3RTARU  45.00\n",
       "45        NP1PAIN  45.50\n",
       "36       NP3PRSPR  45.75\n",
       "54            Sex  50.00\n",
       "40       NP3HMOVR  51.25\n",
       "51        NP2TRMR  52.00\n",
       "52       NP3RIGLU  52.00\n",
       "55       NP3FTAPR  53.75"
      ]
     },
     "execution_count": 80,
     "metadata": {},
     "output_type": "execute_result"
    }
   ],
   "source": [
    "noderank.sort_values('Score')"
   ]
  },
  {
   "cell_type": "code",
   "execution_count": null,
   "id": "bdba83a7",
   "metadata": {},
   "outputs": [],
   "source": []
  }
 ],
 "metadata": {
  "kernelspec": {
   "display_name": "Python 3 (ipykernel)",
   "language": "python",
   "name": "python3"
  },
  "language_info": {
   "codemirror_mode": {
    "name": "ipython",
    "version": 3
   },
   "file_extension": ".py",
   "mimetype": "text/x-python",
   "name": "python",
   "nbconvert_exporter": "python",
   "pygments_lexer": "ipython3",
   "version": "3.7.4"
  }
 },
 "nbformat": 4,
 "nbformat_minor": 5
}
